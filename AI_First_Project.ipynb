{
  "nbformat": 4,
  "nbformat_minor": 0,
  "metadata": {
    "colab": {
      "name": "AI First Project",
      "provenance": [],
      "collapsed_sections": [],
      "mount_file_id": "https://github.com/AlirezaAK2000/Digit-Recognition/blob/master/AI_First_Project.ipynb",
      "authorship_tag": "ABX9TyObmypLG1FTFmCb7oPPy1Af",
      "include_colab_link": true
    },
    "kernelspec": {
      "name": "python3",
      "display_name": "Python 3"
    },
    "language_info": {
      "name": "python"
    }
  },
  "cells": [
    {
      "cell_type": "markdown",
      "metadata": {
        "id": "view-in-github",
        "colab_type": "text"
      },
      "source": [
        "<a href=\"https://colab.research.google.com/github/AlirezaAK2000/Digit-Recognition/blob/master/AI_First_Project.ipynb\" target=\"_parent\"><img src=\"https://colab.research.google.com/assets/colab-badge.svg\" alt=\"Open In Colab\"/></a>"
      ]
    },
    {
      "cell_type": "code",
      "metadata": {
        "id": "lvknyedA2mVx"
      },
      "source": [
        "import numpy as np\n",
        "import matplotlib.pyplot as plt"
      ],
      "execution_count": 1,
      "outputs": []
    },
    {
      "cell_type": "code",
      "metadata": {
        "id": "9W4v_Hl42-AK"
      },
      "source": [
        "# A function to plot images\n",
        "def show_image(img):\n",
        "    image = img.reshape((28, 28))\n",
        "    plt.imshow(image, 'gray')\n"
      ],
      "execution_count": 2,
      "outputs": []
    },
    {
      "cell_type": "code",
      "metadata": {
        "colab": {
          "base_uri": "https://localhost:8080/"
        },
        "id": "1dLvDVha3Ct-",
        "outputId": "bae64f1a-46dc-402f-a071-6fdb9c960dd9"
      },
      "source": [
        "train_images_file = open('drive/MyDrive/colab samples/train-images.idx3-ubyte', 'rb')\n",
        "train_images_file.seek(4)\n",
        "num_of_train_images = int.from_bytes(train_images_file.read(4), 'big')\n",
        "train_images_file.seek(16)\n",
        "\n",
        "train_labels_file = open('drive/MyDrive/colab samples/train-labels.idx1-ubyte', 'rb')\n",
        "train_labels_file.seek(8)\n"
      ],
      "execution_count": 3,
      "outputs": [
        {
          "output_type": "execute_result",
          "data": {
            "text/plain": [
              "8"
            ]
          },
          "metadata": {
            "tags": []
          },
          "execution_count": 3
        }
      ]
    },
    {
      "cell_type": "code",
      "metadata": {
        "id": "_7r2Xkh95iMw"
      },
      "source": [
        "train_set = []\n",
        "for n in range(num_of_train_images):\n",
        "    image = np.zeros((784, 1))\n",
        "    for i in range(784):\n",
        "        image[i, 0] = int.from_bytes(train_images_file.read(1), 'big') / 256\n",
        "    \n",
        "    label_value = int.from_bytes(train_labels_file.read(1), 'big')\n",
        "    label = np.zeros((10, 1))\n",
        "    label[label_value, 0] = 1\n",
        "    \n",
        "    train_set.append((image, label))\n",
        "\n"
      ],
      "execution_count": 4,
      "outputs": []
    },
    {
      "cell_type": "code",
      "metadata": {
        "id": "PlxerNM45omk"
      },
      "source": [
        "# Reading The Test Set\n",
        "test_images_file = open('drive/MyDrive/colab samples/t10k-images.idx3-ubyte', 'rb')\n",
        "test_images_file.seek(4)\n",
        "\n",
        "test_labels_file = open('drive/MyDrive/colab samples/t10k-labels.idx1-ubyte', 'rb')\n",
        "test_labels_file.seek(8)\n",
        "\n",
        "num_of_test_images = int.from_bytes(test_images_file.read(4), 'big')\n",
        "test_images_file.seek(16)\n",
        "\n",
        "test_set = []\n",
        "for n in range(num_of_test_images):\n",
        "    image = np.zeros((784, 1))\n",
        "    for i in range(784):\n",
        "        image[i] = int.from_bytes(test_images_file.read(1), 'big') / 256\n",
        "    \n",
        "    label_value = int.from_bytes(test_labels_file.read(1), 'big')\n",
        "    label = np.zeros((10, 1))\n",
        "    label[label_value, 0] = 1\n",
        "    \n",
        "    test_set.append((image, label))\n"
      ],
      "execution_count": 5,
      "outputs": []
    },
    {
      "cell_type": "code",
      "metadata": {
        "colab": {
          "base_uri": "https://localhost:8080/",
          "height": 265
        },
        "id": "Xwi6eimj5wfT",
        "outputId": "3e267ed9-79db-4049-c935-94881439ec19"
      },
      "source": [
        "# Plotting an image\n",
        "show_image(train_set[0][0])\n",
        "plt.show()"
      ],
      "execution_count": 6,
      "outputs": [
        {
          "output_type": "display_data",
          "data": {
            "image/png": "[encoded data removed]",
            "text/plain": [
              "<Figure size 432x288 with 1 Axes>"
            ]
          },
          "metadata": {
            "tags": [],
            "needs_background": "light"
          }
        }
      ]
    },
    {
      "cell_type": "code",
      "metadata": {
        "colab": {
          "base_uri": "https://localhost:8080/"
        },
        "id": "mz9hsRwL6qwA",
        "outputId": "262c17f4-cbc1-462e-b544-49c125cab22b"
      },
      "source": [
        "train_set_x_v = np.transpose(np.squeeze(np.array([rec[0] for rec in train_set])))\n",
        "train_set_x_v.shape\n",
        "test_set_x_v = np.transpose(np.squeeze(np.array([rec[0] for rec in test_set])))\n",
        "test_set_x_v.shape"
      ],
      "execution_count": 7,
      "outputs": [
        {
          "output_type": "execute_result",
          "data": {
            "text/plain": [
              "(784, 10000)"
            ]
          },
          "metadata": {
            "tags": []
          },
          "execution_count": 7
        }
      ]
    },
    {
      "cell_type": "code",
      "metadata": {
        "colab": {
          "base_uri": "https://localhost:8080/"
        },
        "id": "s0LfBvge6-vt",
        "outputId": "8510b306-e531-433c-dcd2-6d1512ecc6c9"
      },
      "source": [
        "train_set_y_v = np.transpose(np.squeeze(np.array([rec[1] for rec in train_set])))\n",
        "train_set_y_v.shape\n",
        "test_set_y_v = np.transpose(np.squeeze(np.array([rec[1] for rec in test_set])))\n",
        "test_set_y_v.shape"
      ],
      "execution_count": 8,
      "outputs": [
        {
          "output_type": "execute_result",
          "data": {
            "text/plain": [
              "(10, 10000)"
            ]
          },
          "metadata": {
            "tags": []
          },
          "execution_count": 8
        }
      ]
    },
    {
      "cell_type": "code",
      "metadata": {
        "colab": {
          "base_uri": "https://localhost:8080/",
          "height": 283
        },
        "id": "GM2sd3aB86ss",
        "outputId": "b495db7d-3f69-4f0a-f06a-75a1807869d6"
      },
      "source": [
        "show_image(np.transpose(train_set_x_v[:,1]))\n",
        "plt.show()\n",
        "train_set_y_v[1]"
      ],
      "execution_count": 9,
      "outputs": [
        {
          "output_type": "display_data",
          "data": {
            "image/png": "[encoded data removed]",
            "text/plain": [
              "<Figure size 432x288 with 1 Axes>"
            ]
          },
          "metadata": {
            "tags": [],
            "needs_background": "light"
          }
        },
        {
          "output_type": "execute_result",
          "data": {
            "text/plain": [
              "array([0., 0., 0., ..., 0., 0., 0.])"
            ]
          },
          "metadata": {
            "tags": []
          },
          "execution_count": 9
        }
      ]
    },
    {
      "cell_type": "code",
      "metadata": {
        "id": "l0_fGc849Wse"
      },
      "source": [
        "def sigmoid(A):\n",
        "  return 1/(1+np.exp(-1 * A))\n",
        "def sigmoid_deriv(A):\n",
        "  sig = sigmoid(A)\n",
        "  return sig * (1 - sig)\n",
        "\n",
        "def softmax(A):\n",
        "  e = np.exp(A)\n",
        "  return e / np.sum(e)\n",
        "def relu(A):\n",
        "  return np.maximum(A , 0)\n",
        "def relu_deriv(A):\n",
        "  return (A > 0).astype(int)\n",
        "def tanh(A):\n",
        "  return np.tanh(A)\n",
        "def tanh_deriv(A):\n",
        "  return 1 - tanh(A) ** 2\n",
        "def leaky_relu(A,alpha=0.01):\n",
        "  return np.where(A > 0, A, A * alpha)     \n",
        "def leaky_relu_deriv(A, alpha=0.01):\n",
        "  dx = np.ones_like(A)\n",
        "  dx[A < 0] = alpha\n",
        "  return dx                     "
      ],
      "execution_count": 118,
      "outputs": []
    },
    {
      "cell_type": "code",
      "metadata": {
        "id": "PhboO7FiBBwx"
      },
      "source": [
        "model = [\n",
        "    (train_set_x_v.shape[0] , None),\n",
        "    (16 , relu ,relu_deriv ),\n",
        "    (16 , relu ,relu_deriv ),\n",
        "    (10 , sigmoid , sigmoid_deriv),\n",
        "\n",
        "]\n",
        "model"
      ],
      "execution_count": 133,
      "outputs": []
    },
    {
      "cell_type": "code",
      "metadata": {
        "id": "IbE0PraS6Hcw"
      },
      "source": [
        "np.random.seed(2)\n",
        "def get_dimensions(model):\n",
        "  dimensions = [(model[i+1][0], model[i][0]) for i in range(len(model)-1)]\n",
        "  return dimensions\n",
        "dimensions = get_dimensions(model)"
      ],
      "execution_count": 120,
      "outputs": []
    },
    {
      "cell_type": "code",
      "metadata": {
        "id": "0eZ06aVfBO90"
      },
      "source": [
        "def initializer(shape ):\n",
        "  w = np.random.randn(shape[0],shape[1]) * np.sqrt(2./shape[1])\n",
        "  # b = np.random.randn(shape[0] , 1) * np.sqrt(2./shape[1])\n",
        "  b = np.zeros((shape[0] , 1))\n",
        "\n",
        "  return (w , b)"
      ],
      "execution_count": 136,
      "outputs": []
    },
    {
      "cell_type": "code",
      "metadata": {
        "id": "rht81vZJ6LJy"
      },
      "source": [
        "def initialize(model):\n",
        "  W = []\n",
        "  B = []\n",
        "  for shape in dimensions:\n",
        "    w , b  = initializer(shape)\n",
        "    assert(w.shape == shape)\n",
        "    assert(b.shape == (shape[0] , 1))\n",
        "    W.append(w)\n",
        "    B.append(b)\n",
        "  return W , B\n",
        "W , B = initialize(model)"
      ],
      "execution_count": 137,
      "outputs": []
    },
    {
      "cell_type": "code",
      "metadata": {
        "id": "GhRfRYHe_P8w"
      },
      "source": [
        "def mse_cost(y , y_prim):\n",
        "  return np.sum((y_prim-y)**2)/y.shape[1]"
      ],
      "execution_count": 123,
      "outputs": []
    },
    {
      "cell_type": "code",
      "metadata": {
        "id": "eXbUoelB_ED_"
      },
      "source": [
        "def forward_propagation(X , W , B,model):\n",
        "  layers_num = len(W)\n",
        "  A = [X]\n",
        "  Z = []\n",
        "  for i in range(layers_num):\n",
        "    # assert(W[i].shape[1] == X.shape[0])\n",
        "    z = W[i] @ A[i] + B[i]\n",
        "    a = model[i + 1][1](z)\n",
        "    A.append(a)\n",
        "    Z.append(z)\n",
        "    # print(z.shape)\n",
        "  return {\n",
        "      'A':A,\n",
        "      'Z':Z\n",
        "  }"
      ],
      "execution_count": 124,
      "outputs": []
    },
    {
      "cell_type": "code",
      "metadata": {
        "id": "bFfd7tmkC4AR",
        "colab": {
          "base_uri": "https://localhost:8080/"
        },
        "outputId": "d7469410-de19-4db6-abbe-2ee5bae6af58"
      },
      "source": [
        "# print(train_set_x_v.shape)\n",
        "cache = forward_propagation(train_set_x_v , W , B,model)\n",
        "assert(train_set_y_v.shape == cache['A'][-1].shape)\n",
        "for i in cache['A']:\n",
        "  print(i.shape)"
      ],
      "execution_count": 125,
      "outputs": [
        {
          "output_type": "stream",
          "text": [
            "(784, 60000)\n",
            "(16, 60000)\n",
            "(16, 60000)\n",
            "(10, 60000)\n"
          ],
          "name": "stdout"
        }
      ]
    },
    {
      "cell_type": "code",
      "metadata": {
        "colab": {
          "base_uri": "https://localhost:8080/"
        },
        "id": "Ol46khuhC_lc",
        "outputId": "0d900095-affb-4915-ae21-6dd5acb1a40e"
      },
      "source": [
        "mse_cost(train_set_y_v,cache['A'][-1])\n",
        "cache['Z'][0].shape"
      ],
      "execution_count": 126,
      "outputs": [
        {
          "output_type": "execute_result",
          "data": {
            "text/plain": [
              "(16, 60000)"
            ]
          },
          "metadata": {
            "tags": []
          },
          "execution_count": 126
        }
      ]
    },
    {
      "cell_type": "code",
      "metadata": {
        "id": "gRCffpfnSy5w"
      },
      "source": [
        "def backward_propagation(W , B , cache, Y , model):\n",
        "  A , Z = cache['A'] ,cache['Z']\n",
        "  # print(Z)\n",
        "  dW , dB= [] , []\n",
        "  layers_num = len(W)\n",
        "  tmp = (2 * (A[-1] - Y)) * model[-1][2](Z[-1])\n",
        "  db = tmp  @ np.ones((A[-1].shape[1],1))\n",
        "  dw = tmp  @ np.transpose(A[-2])\n",
        "  dA = [np.transpose(W[-1]) @ tmp]\n",
        "  assert(dw.shape == W[-1].shape)\n",
        "  assert(db.shape == B[-1].shape)\n",
        "  dW.append(dw)\n",
        "  dB.append(db)\n",
        "  for i in reversed(range(layers_num - 1)):\n",
        "    tmp = dA[0] * model[i+1][2](Z[i])\n",
        "    db = tmp @ np.ones((tmp.shape[1],1))\n",
        "    dw = tmp @ np.transpose(A[i])\n",
        "    da = np.transpose(W[i]) @ tmp\n",
        "    dA.insert(0,da)\n",
        "    dW.insert(0,dw)\n",
        "    dB.insert(0,db)\n",
        "    assert(dw.shape == W[i].shape)\n",
        "    assert(db.shape == B[i].shape)\n",
        "\n",
        "  return {\n",
        "      'dW':dW,\n",
        "      'dB':dB\n",
        "  }"
      ],
      "execution_count": 127,
      "outputs": []
    },
    {
      "cell_type": "code",
      "metadata": {
        "id": "WT7j_g7LetMx"
      },
      "source": [
        "a = backward_propagation(W,B, cache,train_set_y_v , model)"
      ],
      "execution_count": 128,
      "outputs": []
    },
    {
      "cell_type": "code",
      "metadata": {
        "id": "ktzS-K7NZRxJ"
      },
      "source": [
        "from collections import defaultdict\n",
        "def test(W, B , X ,Y , model):\n",
        "  cache = forward_propagation(X , W , B , model)\n",
        "  Y_prim = cache['A'][-1]\n",
        "  Y_prim = np.round(Y_prim)\n",
        "  result = defaultdict(lambda : 0,dict(zip(*(np.unique((Y_prim == Y).all(0) , return_counts=True)))))\n",
        "  return result[True] / (result[True] + result[False]) * 100\n",
        "\n",
        "\n",
        "def main_model(model , X , Y ,X_test , Y_test , epoch=200 , batch_size=20 , a=1):\n",
        "  costs , test_accuracies , train_accuracies = [] , [] , []\n",
        "  num_iteration = X.shape[1]//batch_size\n",
        "  W , B = initialize(model)\n",
        "  for i in range(epoch):\n",
        "    cost = None\n",
        "    for j in range(num_iteration):\n",
        "      batch_x = X[:,j*batch_size:(j+1)*batch_size]\n",
        "      batch_y = Y[:,j*batch_size:(j+1)*batch_size]\n",
        "      cache = forward_propagation(batch_x , W,B,model)\n",
        "      cost = mse_cost(batch_y , cache['A'][-1])\n",
        "      gradients = backward_propagation(W , B , cache , batch_y , model)\n",
        "      for k in range(len(W)):\n",
        "        W[k] = W[k] - a * gradients['dW'][k]\n",
        "        B[k] = B[k] - a * gradients['dB'][k]\n",
        "    # if i % 10 == 0:\n",
        "    train_accuracy = test(W , B , X , Y , model)\n",
        "    test_accuracy = test(W , B , X_test , Y_test , model)\n",
        "    print(f'*** epoch : {i} ======> cost : {cost} , train accuracy : {train_accuracy} , test accuracy : {test_accuracy}')\n",
        "    costs.append(cost)\n",
        "    test_accuracies.append(test_accuracy)\n",
        "    train_accuracies.append(train_accuracy)\n",
        "\n",
        "  train_accuracy = test(W , B , X , Y , model)\n",
        "  test_accuracy = test(W , B , X_test , Y_test , model)\n",
        "  print('__________________________________________________')\n",
        "  print(f\"train accuracy: {train_accuracy}\")\n",
        "  print(f\"test accuracy: {test_accuracy}\")  \n",
        "  return costs , test_accuracies , train_accuracies\n",
        "\n"
      ],
      "execution_count": 154,
      "outputs": []
    },
    {
      "cell_type": "code",
      "metadata": {
        "colab": {
          "base_uri": "https://localhost:8080/"
        },
        "id": "cE7nDCpSe8oX",
        "outputId": "44a39867-65b4-4bdd-eb0a-f450955c6cc8"
      },
      "source": [
        "info = main_model(model , train_set_x_v, train_set_y_v,test_set_x_v , test_set_y_v,a=0.01, epoch=100)"
      ],
      "execution_count": 156,
      "outputs": [
        {
          "output_type": "stream",
          "text": [
            "*** epoch : 0 ======> cost : 0.0096749268593572 , train accuracy : 85.79166666666667 , test accuracy : 86.03\n",
            "*** epoch : 1 ======> cost : 0.012766827651325507 , train accuracy : 89.02333333333333 , test accuracy : 88.83\n",
            "*** epoch : 2 ======> cost : 0.05019297934871295 , train accuracy : 90.84666666666666 , test accuracy : 90.67\n",
            "*** epoch : 3 ======> cost : 0.0360292679055055 , train accuracy : 91.545 , test accuracy : 91.03999999999999\n",
            "*** epoch : 4 ======> cost : 0.018425360370736096 , train accuracy : 92.08833333333334 , test accuracy : 91.56\n",
            "*** epoch : 5 ======> cost : 0.00276526334698659 , train accuracy : 92.63666666666667 , test accuracy : 91.94\n",
            "*** epoch : 6 ======> cost : 0.0065593417641864535 , train accuracy : 92.58833333333332 , test accuracy : 91.55\n",
            "*** epoch : 7 ======> cost : 0.003640950191315723 , train accuracy : 93.00666666666667 , test accuracy : 91.69\n",
            "*** epoch : 8 ======> cost : 0.004705209282176558 , train accuracy : 93.26666666666667 , test accuracy : 92.0\n",
            "*** epoch : 9 ======> cost : 0.02750870491700111 , train accuracy : 93.28333333333333 , test accuracy : 92.38\n",
            "*** epoch : 10 ======> cost : 0.011270334700901182 , train accuracy : 93.51166666666667 , test accuracy : 92.51\n",
            "*** epoch : 11 ======> cost : 0.010460660779403167 , train accuracy : 93.50333333333334 , test accuracy : 92.51\n",
            "*** epoch : 12 ======> cost : 0.0028429017616585497 , train accuracy : 93.45833333333333 , test accuracy : 92.41\n",
            "*** epoch : 13 ======> cost : 0.0186494211688152 , train accuracy : 93.72 , test accuracy : 92.62\n",
            "*** epoch : 14 ======> cost : 0.0010132094136315883 , train accuracy : 93.47833333333332 , test accuracy : 92.35\n",
            "*** epoch : 15 ======> cost : 0.0009052252952093529 , train accuracy : 94.01 , test accuracy : 93.04\n",
            "*** epoch : 16 ======> cost : 0.032072953871148266 , train accuracy : 93.98666666666666 , test accuracy : 92.85\n",
            "*** epoch : 17 ======> cost : 0.004920059011146243 , train accuracy : 93.68666666666667 , test accuracy : 92.51\n",
            "*** epoch : 18 ======> cost : 0.006114641514244288 , train accuracy : 94.28833333333333 , test accuracy : 92.92\n",
            "*** epoch : 19 ======> cost : 0.0028152469980449774 , train accuracy : 94.16666666666667 , test accuracy : 92.86\n",
            "*** epoch : 20 ======> cost : 0.007129341131758242 , train accuracy : 94.25666666666666 , test accuracy : 93.02\n",
            "*** epoch : 21 ======> cost : 0.0026429010958639605 , train accuracy : 94.00666666666667 , test accuracy : 92.82000000000001\n",
            "*** epoch : 22 ======> cost : 0.0312949244765489 , train accuracy : 94.71000000000001 , test accuracy : 93.35\n",
            "*** epoch : 23 ======> cost : 0.010097140715658953 , train accuracy : 94.39 , test accuracy : 92.97\n",
            "*** epoch : 24 ======> cost : 0.0013469034968247996 , train accuracy : 94.27166666666666 , test accuracy : 92.66\n",
            "*** epoch : 25 ======> cost : 2.3214992842594104e-05 , train accuracy : 94.65 , test accuracy : 93.46\n",
            "*** epoch : 26 ======> cost : 0.05355491183729229 , train accuracy : 94.53833333333334 , test accuracy : 93.2\n",
            "*** epoch : 27 ======> cost : 0.0004242668445682802 , train accuracy : 94.485 , test accuracy : 92.93\n",
            "*** epoch : 28 ======> cost : 0.0066776641039962194 , train accuracy : 94.40166666666666 , test accuracy : 93.05\n",
            "*** epoch : 29 ======> cost : 0.0008419769666224268 , train accuracy : 94.68333333333334 , test accuracy : 93.35\n",
            "*** epoch : 30 ======> cost : 0.03911266838397727 , train accuracy : 93.88833333333334 , test accuracy : 92.61\n",
            "*** epoch : 31 ======> cost : 6.406798453076428e-05 , train accuracy : 93.88166666666666 , test accuracy : 92.36\n",
            "*** epoch : 32 ======> cost : 7.65721648783733e-05 , train accuracy : 95.13833333333334 , test accuracy : 93.44\n",
            "*** epoch : 33 ======> cost : 0.002233484778638642 , train accuracy : 94.82000000000001 , test accuracy : 93.37\n",
            "*** epoch : 34 ======> cost : 0.00013114305329884292 , train accuracy : 94.74333333333334 , test accuracy : 93.33\n",
            "*** epoch : 35 ======> cost : 0.039941275574903005 , train accuracy : 95.06 , test accuracy : 93.51\n",
            "*** epoch : 36 ======> cost : 0.0001493554820758764 , train accuracy : 94.87666666666667 , test accuracy : 93.27\n",
            "*** epoch : 37 ======> cost : 0.0025236002804846502 , train accuracy : 94.30333333333333 , test accuracy : 92.95\n",
            "*** epoch : 38 ======> cost : 0.00012987805636816818 , train accuracy : 94.34333333333333 , test accuracy : 93.08\n",
            "*** epoch : 39 ======> cost : 0.000104073050400244 , train accuracy : 94.86333333333333 , test accuracy : 93.14\n",
            "*** epoch : 40 ======> cost : 0.0003858018495665 , train accuracy : 94.88166666666666 , test accuracy : 93.08999999999999\n",
            "*** epoch : 41 ======> cost : 0.04811291126089732 , train accuracy : 94.73833333333333 , test accuracy : 93.28999999999999\n",
            "*** epoch : 42 ======> cost : 0.0005373995293479698 , train accuracy : 94.59166666666667 , test accuracy : 92.86\n",
            "*** epoch : 43 ======> cost : 0.00011899535595023703 , train accuracy : 95.04833333333333 , test accuracy : 93.28999999999999\n",
            "*** epoch : 44 ======> cost : 0.026134574317069614 , train accuracy : 95.06833333333333 , test accuracy : 93.38\n",
            "*** epoch : 45 ======> cost : 0.000736861630092397 , train accuracy : 95.08666666666666 , test accuracy : 93.47999999999999\n",
            "*** epoch : 46 ======> cost : 0.00035715954976340257 , train accuracy : 95.00166666666667 , test accuracy : 93.46\n",
            "*** epoch : 47 ======> cost : 0.00028142286425897144 , train accuracy : 94.81 , test accuracy : 93.21000000000001\n",
            "*** epoch : 48 ======> cost : 3.8432864681476574e-05 , train accuracy : 95.21666666666667 , test accuracy : 93.71000000000001\n",
            "*** epoch : 49 ======> cost : 0.048361476214227546 , train accuracy : 95.41333333333334 , test accuracy : 93.7\n",
            "*** epoch : 50 ======> cost : 0.00019789411128043007 , train accuracy : 94.825 , test accuracy : 93.24\n",
            "*** epoch : 51 ======> cost : 0.05010654409731893 , train accuracy : 95.30166666666666 , test accuracy : 93.65\n",
            "*** epoch : 52 ======> cost : 0.041276627933440245 , train accuracy : 95.47 , test accuracy : 93.72\n",
            "*** epoch : 53 ======> cost : 0.04573374537749035 , train accuracy : 94.8 , test accuracy : 93.22\n",
            "*** epoch : 54 ======> cost : 0.0003102073791798871 , train accuracy : 94.98333333333333 , test accuracy : 93.24\n",
            "*** epoch : 55 ======> cost : 0.05858056781309977 , train accuracy : 93.60833333333333 , test accuracy : 92.63\n",
            "*** epoch : 56 ======> cost : 0.0003042808991952698 , train accuracy : 95.20333333333333 , test accuracy : 93.5\n",
            "*** epoch : 57 ======> cost : 3.0456529749948103e-05 , train accuracy : 95.16 , test accuracy : 93.37\n",
            "*** epoch : 58 ======> cost : 4.871499276715902e-06 , train accuracy : 94.18333333333334 , test accuracy : 92.61\n",
            "*** epoch : 59 ======> cost : 0.011153845055151117 , train accuracy : 95.69333333333333 , test accuracy : 93.77\n",
            "*** epoch : 60 ======> cost : 0.04794279279864039 , train accuracy : 95.01166666666667 , test accuracy : 93.38\n",
            "*** epoch : 61 ======> cost : 0.00035265052828527184 , train accuracy : 95.11166666666668 , test accuracy : 93.26\n",
            "*** epoch : 62 ======> cost : 4.1833641254420255e-05 , train accuracy : 95.44166666666666 , test accuracy : 93.75\n",
            "*** epoch : 63 ======> cost : 0.00021636253212358223 , train accuracy : 95.16 , test accuracy : 93.47\n",
            "*** epoch : 64 ======> cost : 0.08264707761109825 , train accuracy : 95.38666666666667 , test accuracy : 93.94\n",
            "*** epoch : 65 ======> cost : 3.0804417514519125e-06 , train accuracy : 95.57666666666667 , test accuracy : 93.65\n",
            "*** epoch : 66 ======> cost : 0.008341492037501844 , train accuracy : 95.31333333333333 , test accuracy : 93.71000000000001\n",
            "*** epoch : 67 ======> cost : 0.00031696560870128686 , train accuracy : 95.71833333333333 , test accuracy : 93.92\n",
            "*** epoch : 68 ======> cost : 0.0006159724950808505 , train accuracy : 95.76666666666667 , test accuracy : 94.15\n",
            "*** epoch : 69 ======> cost : 5.7901121721332395e-05 , train accuracy : 95.59833333333333 , test accuracy : 93.82000000000001\n",
            "*** epoch : 70 ======> cost : 0.009339726238527057 , train accuracy : 95.59833333333333 , test accuracy : 94.01\n",
            "*** epoch : 71 ======> cost : 0.0012323979722201977 , train accuracy : 95.76666666666667 , test accuracy : 93.74\n",
            "*** epoch : 72 ======> cost : 0.052628294183428195 , train accuracy : 94.96 , test accuracy : 92.95\n",
            "*** epoch : 73 ======> cost : 4.626835633377758e-05 , train accuracy : 95.17333333333333 , test accuracy : 93.44\n",
            "*** epoch : 74 ======> cost : 0.0010212444534676004 , train accuracy : 94.90833333333333 , test accuracy : 93.03\n",
            "*** epoch : 75 ======> cost : 0.04996392547371464 , train accuracy : 95.35666666666667 , test accuracy : 93.52000000000001\n",
            "*** epoch : 76 ======> cost : 0.011833205400804053 , train accuracy : 95.73666666666666 , test accuracy : 93.89999999999999\n",
            "*** epoch : 77 ======> cost : 2.6369551654417863e-05 , train accuracy : 95.83333333333334 , test accuracy : 93.99\n"
          ],
          "name": "stdout"
        },
        {
          "output_type": "stream",
          "text": [
            "/usr/local/lib/python3.7/dist-packages/ipykernel_launcher.py:2: RuntimeWarning: overflow encountered in exp\n",
            "  \n"
          ],
          "name": "stderr"
        },
        {
          "output_type": "stream",
          "text": [
            "*** epoch : 78 ======> cost : 0.0004402893565312275 , train accuracy : 95.05166666666666 , test accuracy : 93.53\n",
            "*** epoch : 79 ======> cost : 0.0020930338658555663 , train accuracy : 95.85833333333333 , test accuracy : 94.35\n",
            "*** epoch : 80 ======> cost : 0.0020597524150854736 , train accuracy : 95.395 , test accuracy : 93.73\n",
            "*** epoch : 81 ======> cost : 0.008325993983647629 , train accuracy : 95.61 , test accuracy : 93.86\n",
            "*** epoch : 82 ======> cost : 0.00017942061843225862 , train accuracy : 95.45333333333333 , test accuracy : 93.78999999999999\n",
            "*** epoch : 83 ======> cost : 0.0013768624639398368 , train accuracy : 95.51666666666667 , test accuracy : 93.66\n",
            "*** epoch : 84 ======> cost : 0.004815890525199618 , train accuracy : 95.33 , test accuracy : 93.61\n",
            "*** epoch : 85 ======> cost : 0.0009785074962554764 , train accuracy : 95.51833333333335 , test accuracy : 93.84\n",
            "*** epoch : 86 ======> cost : 0.012958076803378214 , train accuracy : 96.01166666666666 , test accuracy : 94.21000000000001\n",
            "*** epoch : 87 ======> cost : 0.002209242525070731 , train accuracy : 95.47833333333332 , test accuracy : 93.86\n",
            "*** epoch : 88 ======> cost : 1.1883187683222118e-07 , train accuracy : 95.15166666666667 , test accuracy : 93.19\n",
            "*** epoch : 89 ======> cost : 1.0461287618992015e-05 , train accuracy : 95.37 , test accuracy : 93.71000000000001\n",
            "*** epoch : 90 ======> cost : 0.0061907051632184955 , train accuracy : 95.74000000000001 , test accuracy : 94.22\n",
            "*** epoch : 91 ======> cost : 0.018468710952129937 , train accuracy : 95.695 , test accuracy : 94.03\n",
            "*** epoch : 92 ======> cost : 0.0006789930551046999 , train accuracy : 95.64833333333334 , test accuracy : 93.86\n",
            "*** epoch : 93 ======> cost : 0.00022206072401145487 , train accuracy : 95.42333333333333 , test accuracy : 93.89\n",
            "*** epoch : 94 ======> cost : 1.013394326168694e-05 , train accuracy : 95.3 , test accuracy : 93.66\n",
            "*** epoch : 95 ======> cost : 0.00015136674914848243 , train accuracy : 95.635 , test accuracy : 93.88\n",
            "*** epoch : 96 ======> cost : 2.688525626527256e-05 , train accuracy : 95.66 , test accuracy : 93.88\n",
            "*** epoch : 97 ======> cost : 1.3646083537142139e-08 , train accuracy : 95.12 , test accuracy : 93.60000000000001\n",
            "*** epoch : 98 ======> cost : 0.0002955410927153768 , train accuracy : 95.40333333333334 , test accuracy : 93.93\n",
            "*** epoch : 99 ======> cost : 4.192674284819475e-05 , train accuracy : 95.76666666666667 , test accuracy : 94.23\n",
            "__________________________________________________\n",
            "train accuracy: 95.76666666666667\n",
            "test accuracy: 94.23\n"
          ],
          "name": "stdout"
        }
      ]
    },
    {
      "cell_type": "code",
      "metadata": {
        "id": "e3zphQ6DOdb7",
        "colab": {
          "base_uri": "https://localhost:8080/",
          "height": 265
        },
        "outputId": "eda16b1e-fb4e-40d9-d710-915a1bbdde03"
      },
      "source": [
        "plt.plot([i for i in range(1,len(info[0])+1)] , info[0] , label='cost')\n",
        "plt.legend(loc=\"upper right\", frameon=False)\n",
        "plt.show()"
      ],
      "execution_count": 160,
      "outputs": [
        {
          "output_type": "display_data",
          "data": {
            "image/png": "[encoded data removed]",
            "text/plain": [
              "<Figure size 432x288 with 1 Axes>"
            ]
          },
          "metadata": {
            "tags": [],
            "needs_background": "light"
          }
        }
      ]
    },
    {
      "cell_type": "code",
      "metadata": {
        "id": "t6t5qKUimewi",
        "outputId": "53cf6f7a-ffc2-4cce-ed8e-8d582f08d06c",
        "colab": {
          "base_uri": "https://localhost:8080/",
          "height": 265
        }
      },
      "source": [
        "plt.plot([i for i in range(1,len(info[1])+1)] , info[1] , label='test accuracy')\n",
        "plt.plot([i for i in range(1,len(info[2])+1)] , info[2] , label='train accuracy')\n",
        "plt.legend(loc=\"upper left\", frameon=False)\n",
        "plt.show()"
      ],
      "execution_count": 163,
      "outputs": [
        {
          "output_type": "display_data",
          "data": {
            "image/png": "[encoded data removed]",
            "text/plain": [
              "<Figure size 432x288 with 1 Axes>"
            ]
          },
          "metadata": {
            "tags": [],
            "needs_background": "light"
          }
        }
      ]
    },
    {
      "cell_type": "code",
      "metadata": {
        "id": "IaezAqMLnNOs"
      },
      "source": [
        ""
      ],
      "execution_count": null,
      "outputs": []
    }
  ]
}